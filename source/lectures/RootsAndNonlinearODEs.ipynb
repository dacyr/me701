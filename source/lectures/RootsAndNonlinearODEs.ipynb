{
 "cells": [
  {
   "cell_type": "markdown",
   "metadata": {
    "slideshow": {
     "slide_type": "slide"
    }
   },
   "source": [
    "# Finding Roots and Solving (Non)linear ODEs\n",
    "\n",
    "Our goal is to solve\n",
    "\n",
    "$$\n",
    "\\frac{d\\mathbf{y}}{dt} = \\mathbf{F}(t, \\mathbf{y}(t))\n",
    "$$\n",
    "\n",
    "subject to appropropriate initial conditions."
   ]
  },
  {
   "cell_type": "markdown",
   "metadata": {
    "slideshow": {
     "slide_type": "slide"
    }
   },
   "source": [
    "## Numerical ODEs: a Review\n",
    "\n",
    "Consider good old $y'(t) = -a y(t)$ subject to $y(0) = y_0$."
   ]
  },
  {
   "cell_type": "markdown",
   "metadata": {
    "slideshow": {
     "slide_type": "fragment"
    }
   },
   "source": [
    "Solution: $y(t)=y_0 e^{-at}$."
   ]
  },
  {
   "cell_type": "markdown",
   "metadata": {
    "slideshow": {
     "slide_type": "subslide"
    }
   },
   "source": [
    "Solve numerically by noting\n",
    "\n",
    "$$\n",
    "y(t + \\Delta) = y(t) + \\Delta y'(t) + \\frac{\\Delta}{2} y''(t) + \\ldots \\, ,\n",
    "$$\n",
    "\n",
    "and, thus, \n",
    "\n",
    "$$\n",
    "\\frac{dy}{dt} \\approx \\frac{y(t+\\Delta)-y(t)}{\\Delta} \\, .\n",
    "$$"
   ]
  },
  {
   "cell_type": "markdown",
   "metadata": {
    "slideshow": {
     "slide_type": "subslide"
    }
   },
   "source": [
    "Substitute the finite difference into the ODE to get\n",
    "\n",
    "$$\n",
    "   \\frac{y(t + \\Delta)}{\\Delta} = -a y(t)  \\quad \\big ( = F(t, y(t)) \\big)\n",
    "$$\n",
    "\n",
    "or \n",
    "\n",
    "$$\n",
    "   \\frac{y(t + \\Delta)}{\\Delta} = -a y(t+\\Delta) \\quad \\big ( = F(t+\\Delta, y(t+\\Delta) \\big ) \\, .\n",
    "$$\n",
    "\n",
    "The first approach is **forward Euler** and is explicit ($y(t+\\Delta)$ depends explicitly on information from time $t$).  The second approach is **backward Euler** and is implicit (($y(t+\\Delta)$ depends implicitly on itself since the right-hand side is evaluated at time $t+\\Delta$).  Both methods are **first-order** methods (errors proportional to $\\Delta$).  However, whereas backward Euler is **unconditionally stable**, forward Euler is stable only for sufficiently small time step $\\Delta$.\n",
    "\n"
   ]
  },
  {
   "cell_type": "markdown",
   "metadata": {
    "collapsed": true,
    "slideshow": {
     "slide_type": "subslide"
    }
   },
   "source": [
    "**Quick Exercise**:  Use FE and BE to solve $y' = ay$ with $y(0)=1$ for different $a$ (+ and -) and $\\Delta t$ values.  Can you determine when FE leads to suspect behavior (e.g., negative values, oscillations, and other things not consistent with $y(t) = e^{at}$?\n",
    "\n",
    "**Quick Exercise**: Solve $y' = 1 - y(t)$ with $y(0)=0$ with BE.  Plot the absolute difference between your answer at $t=10$ and the analytic solution as a function of $\\Delta$."
   ]
  },
  {
   "cell_type": "markdown",
   "metadata": {
    "slideshow": {
     "slide_type": "slide"
    }
   },
   "source": [
    "## Nonlinear Equations\n",
    "\n",
    "Consider the following model for transient, convective cooling of a lumped system (i.e., no spatial dependence):\n",
    "\n",
    "$$\n",
    "\\rho V C_p (T) \\frac{dT}{dt} + h A(T-T_{\\infty}) \\, = 0,\n",
    "$$\n",
    "\n",
    "with $T(0) = T_0$.  Here, $\\rho$ is density, $V$ is the body volume, $C_p(T) = a T + b$ is heat capacity, $h$ is the heat transfer coefficient, $A$ is the body surface area, and $T_{\\infty}$ is the ambient temperature (equal to the temperature of the body at $t = \\infty$. Note, this model is nonlinear because a coefficient ($C_p(T)$) depends on the solution $T$.\n",
    "\n"
   ]
  },
  {
   "cell_type": "markdown",
   "metadata": {
    "slideshow": {
     "slide_type": "subslide"
    }
   },
   "source": [
    "Let's apply BE to the model:\n",
    "$$\n",
    "  T(t + \\Delta) = \\frac{-hA[T(t+\\Delta)-T_{\\infty}]\\Delta}{\\rho V C_p(T(t+\\Delta))} + T(t) \\, .\n",
    "$$\n",
    "Given $t$, $T(t)$, $\\Delta$, and all the system coefficients, we're stuck with the **nonlinear** equation\n",
    "$$\n",
    "  f(x) = x - T(t) + \\frac{-hA[x-T_{\\infty}]\\Delta}{\\rho V C_p(x)} + T(t) = 0 \\, .\n",
    "$$\n",
    "where $x = T(t+\\Delta)$."
   ]
  },
  {
   "cell_type": "markdown",
   "metadata": {
    "slideshow": {
     "slide_type": "subslide"
    }
   },
   "source": [
    "To solve $f(x) = 0$ is to find the roots (zeros) of $f(x)$.  Common schemes:\n",
    "- **bisection**: If you know that just one root is in $[x_L, x_R]$, check $x_L$, $x_R$, and the point $x_C=(x_L+x_R)/2$.  Unless $f(x_C)$ is zero, the sign of $f(x_C)$ must be the same as $f(x_L)$ or $f(x_R)$.  Cut the search region in half by setting $x_L = x_C$ if $sign(f(x_C)) = sign(f(x_L))$ or by setting $x_R = x_C$. \n",
    "- **Newton's method**:  Guess $x_0$ for the root. If you know the derivative of $f(x)$, evaluate $f'(x_0)$ and follow that tangent line to the $x$ axis for an updated guess $x_1$.\n",
    "- **Secant method**  Guess $x_0$ for the root. Approximate $f'(x_0)$ with $(f(x_0+\\Delta)-f(x))/\\Delta$ and follow that tangent line to the $x$ axis for an updated guess $x_1$."
   ]
  },
  {
   "cell_type": "markdown",
   "metadata": {
    "slideshow": {
     "slide_type": "subslide"
    }
   },
   "source": [
    "While you should be able to implement each of these for arbitrary, univariate $f(x)$, SciPy has robust options.  Let's try two examples:\n",
    "\n",
    "1. $f(x) = a\\sin(bx)$ for $a = 2$ and $b = 3$.\n",
    "2. The set of equation $x^3 + y = 1$ and $x - y^3 = 1$.  "
   ]
  },
  {
   "cell_type": "code",
   "execution_count": 2,
   "metadata": {
    "slideshow": {
     "slide_type": "subslide"
    }
   },
   "outputs": [
    {
     "name": "stdout",
     "output_type": "stream",
     "text": [
      "[ 1.04719755] [ 0.]\n"
     ]
    }
   ],
   "source": [
    "from scipy.optimize import fsolve\n",
    "import scipy as sp\n",
    "\n",
    "# example one\n",
    "def func(x, a, b):\n",
    "    return a*sp.sin(b*x)\n",
    "sol1 = fsolve(func, x0=1.0, args=(2, 3))\n",
    "sol2 = fsolve(func, x0=0.0, args=(2, 3))\n",
    "print(sol1, sol2)"
   ]
  },
  {
   "cell_type": "code",
   "execution_count": 3,
   "metadata": {
    "slideshow": {
     "slide_type": "fragment"
    }
   },
   "outputs": [
    {
     "data": {
      "text/plain": [
       "7.1795869478616433e-09"
      ]
     },
     "execution_count": 3,
     "metadata": {},
     "output_type": "execute_result"
    }
   ],
   "source": [
    "2*sp.sin(3*1.04719755) # close!"
   ]
  },
  {
   "cell_type": "code",
   "execution_count": 36,
   "metadata": {
    "slideshow": {
     "slide_type": "subslide"
    }
   },
   "outputs": [
    {
     "name": "stdout",
     "output_type": "stream",
     "text": [
      "[  1.00000000e+00   1.19299863e-12]\n",
      "(5.4996007747831754e-12, 1.4355183708403274e-12)\n"
     ]
    }
   ],
   "source": [
    "# example 2\n",
    "def func2(z):\n",
    "    x, y = z # unpack the unknowns\n",
    "    return x**3 + y - 1, x - y**3 - 1\n",
    "sol3 = fsolve(func2, x0=[1, 1])\n",
    "print(sol3)\n",
    "print(func2(sol3))"
   ]
  },
  {
   "cell_type": "code",
   "execution_count": 37,
   "metadata": {
    "slideshow": {
     "slide_type": "subslide"
    }
   },
   "outputs": [
    {
     "data": {
      "image/png": "[encoded data removed]",
      "text/plain": [
       "<matplotlib.figure.Figure at 0x119705048>"
      ]
     },
     "metadata": {},
     "output_type": "display_data"
    }
   ],
   "source": [
    "x = sp.linspace(-4, 4)\n",
    "y = sp.linspace(-4, 4)\n",
    "import matplotlib.pyplot as plt\n",
    "plt.plot(x, 1-x**3, 'r', y**3+1, y, 'g')\n",
    "plt.plot(sol3[0], sol3[1], 'bo', ms=16)\n",
    "plt.axis([-4, 4, -4, 4])\n",
    "plt.xlabel('x')\n",
    "plt.ylabel('y')\n",
    "plt.legend(['$x^3 + y = 1$', '$x-y^3=1$', 'root'])\n",
    "plt.show()"
   ]
  },
  {
   "cell_type": "markdown",
   "metadata": {
    "slideshow": {
     "slide_type": "slide"
    }
   },
   "source": [
    "## Back to ODEs: `odeint`\n",
    "\n",
    "A warm-up: `odeint` for `y' = -ay` for `y(0)=1` and $a=2$.  \n",
    "\n",
    "Note, `odeint` solves systems of first-order equations in the form $\\mathbf{y}' = \\mathbf{f}(t, \\mathbf{y})$.  Hence, one needs the right-hand side function.  One also needs the times at which the solution is to be evaluated."
   ]
  },
  {
   "cell_type": "code",
   "execution_count": 58,
   "metadata": {
    "slideshow": {
     "slide_type": "fragment"
    }
   },
   "outputs": [
    {
     "data": {
      "image/png": "[encoded data removed]",
      "text/plain": [
       "<matplotlib.figure.Figure at 0x119761898>"
      ]
     },
     "metadata": {},
     "output_type": "display_data"
    }
   ],
   "source": [
    "from scipy.integrate import odeint\n",
    "def rhs(y, t, a):\n",
    "    return -a*y[0]\n",
    "times = sp.linspace(0, 10)\n",
    "sol = odeint(rhs, [1], times, args=(2,)) # notice that (2,) is needed to make it appears as a tuple.\n",
    "sol = sol.reshape((len(times))) # returns an array of array (one array per time step with each unknown)\n",
    "plt.plot(times, sol)\n",
    "plt.xlabel('t')\n",
    "plt.ylabel('y(t)')\n",
    "plt.show()"
   ]
  },
  {
   "cell_type": "markdown",
   "metadata": {
    "slideshow": {
     "slide_type": "subslide"
    }
   },
   "source": [
    "A bit more work:  Solve\n",
    "\n",
    "$$\n",
    "y' = -ay \n",
    "z' = -bz + ay\n",
    "$$\n",
    "with $y(0) = 1$, $z(0)=0$, and $a=b=1$."
   ]
  },
  {
   "cell_type": "code",
   "execution_count": 68,
   "metadata": {},
   "outputs": [
    {
     "data": {
      "image/png": "[encoded data removed]",
      "text/plain": [
       "<matplotlib.figure.Figure at 0x119b70048>"
      ]
     },
     "metadata": {},
     "output_type": "display_data"
    }
   ],
   "source": [
    "def rhs(u, t, a, b): # using u.  remember, function argument names are arbitrary\n",
    "    y, z = u # unpack\n",
    "    dydt = -a*y\n",
    "    dzdt = -b*z + a*y\n",
    "    return dydt, dzdt\n",
    "times = sp.linspace(0, 10)\n",
    "sol = odeint(rhs, [1, 0], times, args=(1, 1)) # notice that (2,) is needed to make it appears as a tuple.\n",
    "sol = sol.T\n",
    "plt.plot(times, sol[0], 'k-', label='y(t)')\n",
    "plt.plot(times, sol[1], 'r--', label='z(t)')\n",
    "plt.xlabel('t')\n",
    "plt.legend()\n",
    "plt.show()"
   ]
  },
  {
   "cell_type": "markdown",
   "metadata": {},
   "source": []
  }
 ],
 "metadata": {
  "celltoolbar": "Slideshow",
  "kernelspec": {
   "display_name": "Python 3",
   "language": "python",
   "name": "python3"
  },
  "language_info": {
   "codemirror_mode": {
    "name": "ipython",
    "version": 3
   },
   "file_extension": ".py",
   "mimetype": "text/x-python",
   "name": "python",
   "nbconvert_exporter": "python",
   "pygments_lexer": "ipython3",
   "version": "3.6.1"
  }
 },
 "nbformat": 4,
 "nbformat_minor": 2
}
